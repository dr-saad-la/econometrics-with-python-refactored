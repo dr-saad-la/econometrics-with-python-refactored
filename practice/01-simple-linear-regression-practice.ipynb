{
 "cells": [
  {
   "cell_type": "markdown",
   "id": "d18a0b3b-bda4-4e45-b66c-479f7f4b7d45",
   "metadata": {},
   "source": [
    "<div style=\"background-color:#f8f9fa;\n",
    "    padding:20px;\n",
    "    border:2px solid #360084;\n",
    "    border-radius:8px;\n",
    "    margin:10px 0;\">\n",
    "    <div style=\"background-color:#fafdf0;\n",
    "        line-height:2;\n",
    "        text-align:center;\n",
    "        border:2px solid #360084;\n",
    "        padding:15px;\n",
    "        border-radius:5px;\">\n",
    "        <div style=\"color:#008B8B;\n",
    "            font-size:24pt;\n",
    "            font-weight:700;\">\n",
    "            Simple Linear Regression - Practice Notebook\n",
    "        </div>\n",
    "    </div> \n",
    "    <div style=\"margin-top:15px; padding:10px;\">\n",
    "        <strong>Course:</strong> Econometrics<br>\n",
    "        <strong>Topic:</strong> Simple Linear Regression<br>\n",
    "        <strong>Author:</strong> Dr. Saad Laouadi<br>\n",
    "        <strong>Date:</strong> June 2025<br>\n",
    "        <strong>Difficulty:</strong> Beginner<br>\n",
    "        <strong>Dataset:</strong> Advertising (TV vs Sales)<br>\n",
    "        <strong>Learning Objectives:</strong>\n",
    "        <ul style=\"margin:5px 0; padding-left:20px;\">\n",
    "            <li>Understand simple linear regression concepts</li>\n",
    "            <li>Fit OLS models using statsmodels</li>\n",
    "            <li>Interpret regression results</li>\n",
    "            <li>Analyze residuals and model diagnostics</li>\n",
    "        </ul>\n",
    "    </div>\n",
    "</div>\n",
    "\n",
    "---"
   ]
  },
  {
   "cell_type": "markdown",
   "id": "203fde64-5360-4e43-b8e4-a64723b57296",
   "metadata": {},
   "source": [
    "## Instructions\n",
    "\n",
    "Complete the following exercises step by step. Read each instruction carefully and fill in the missing code where indicated. Use the advertising dataset to explore the relationship between TV advertising spending and sales.\n",
    "\n",
    "### Exercise 1: Environment Setup\n",
    "\n",
    "Set up your working environment by importing the necessary libraries."
   ]
  },
  {
   "cell_type": "code",
   "execution_count": null,
   "id": "5deb2e8a-15cf-4fca-960b-8d7153ea3354",
   "metadata": {},
   "outputs": [],
   "source": [
    "# Import required libraries for data analysis and visualization\n",
    "import os\n",
    "from pathlib import Path\n",
    "\n",
    "import pandas as pd\n",
    "import numpy as np\n",
    "import scipy\n",
    "import skimpy\n",
    "\n",
    "import statsmodels.api as sm\n",
    "import statsmodels.formula.api as smf\n",
    "from statsmodels.api import OLS\n",
    "\n",
    "import patsy\n",
    "import plotnine as pl\n",
    "import matplotlib.pyplot as plt\n",
    "import seaborn as sns\n",
    "\n",
    "# Set pandas display options\n",
    "pd.set_option('display.max_columns', None)\n",
    "pd.set_option('display.expand_frame_repr', False)\n",
    "\n",
    "# Set plotting style\n",
    "plt.style.use('seaborn-v0_8-whitegrid')\n",
    "sns.set_style('whitegrid')\n",
    "\n",
    "# Print environment setup confirmation\n",
    "print(\"*\"*52)\n",
    "print(\"Environment Setup\".center(52))\n",
    "print(\"*\"*52)\n",
    "\n",
    "# Load watermark extension for version information\n",
    "%reload_ext watermark \n",
    "%watermark -iv -ud -v -a \"Your Name\"\n",
    "print(\"*\"*52)"
   ]
  },
  {
   "cell_type": "markdown",
   "id": "2488714f-bc97-47f8-bb73-01b7b57a8a3c",
   "metadata": {},
   "source": [
    "### Exercise 1: Environment Setup\n",
    "\n",
    "Set up your working environment by importing the necessary libraries."
   ]
  },
  {
   "cell_type": "code",
   "execution_count": null,
   "id": "eead4f4b-3220-497a-91ad-789ee9c67ce4",
   "metadata": {},
   "outputs": [],
   "source": [
    "# Import required libraries for data analysis and visualization\n",
    "# Hint: You'll need os, pathlib, pandas, numpy, scipy, skimpy\n",
    "import _____ \n",
    "from pathlib import _____\n",
    "import _____ as pd\n",
    "import _____ as np\n",
    "import _____\n",
    "import _____\n",
    "\n",
    "# Import statsmodels components\n",
    "import _____ as sm\n",
    "import _____._____.api as smf\n",
    "from statsmodels.api import _____\n",
    "\n",
    "# Import visualization libraries\n",
    "import _____.pyplot as plt\n",
    "import _____ as sns\n",
    "\n",
    "# Set pandas display options\n",
    "pd.set_option('display.max_columns', None)\n",
    "pd.set_option('display.expand_frame_repr', False)\n",
    "\n",
    "# Set plotting styles\n",
    "plt.style.use('_____')\n",
    "sns.set_style('_____')\n",
    "\n",
    "# Print environment setup confirmation\n",
    "print(\"*\"*52)\n",
    "print(_____.center(52))\n",
    "print(\"*\"*52)\n",
    "\n",
    "# Load watermark extension and display version information\n",
    "%reload_ext _____ \n",
    "%watermark -iv -ud -v -a \"_____\"  # Replace with your name\n",
    "print(\"*\"*52)"
   ]
  },
  {
   "cell_type": "markdown",
   "id": "6988ac64-52af-4330-b670-a226610e55e7",
   "metadata": {},
   "source": [
    "### Exercise 2: Data Loading and Exploration\n",
    "\n",
    "Load the advertising dataset and explore its structure."
   ]
  },
  {
   "cell_type": "code",
   "execution_count": null,
   "id": "c5ac9704-7aa9-43df-a62b-2bcda326b300",
   "metadata": {},
   "outputs": [],
   "source": [
    "# Load the advertising dataset\n",
    "# 1. Update the path to your dataset location\n",
    "data_path = Path(\"../../datasets/misc/advertising.csv\")\n",
    "advert = pd.read_csv(data_path)\n",
    "\n",
    "# Display basic information about the dataset\n",
    "# Use the appropriate method to show data types and non-null counts\n",
    "advert.info()"
   ]
  },
  {
   "cell_type": "code",
   "execution_count": null,
   "id": "bb14d6ea-7944-4695-aeee-d4d76b29a822",
   "metadata": {},
   "outputs": [],
   "source": [
    "# Load the advertising dataset\n",
    "# Note: Update the path to your dataset location\n",
    "data_path = Path(\"../../datasets/misc/advertising.csv\")\n",
    "advert = pd.read_csv(data_path)\n",
    "\n",
    "# Display basic information about the dataset\n",
    "advert._____()"
   ]
  },
  {
   "cell_type": "markdown",
   "id": "83b19839-2e85-4757-ba55-14469568ca05",
   "metadata": {},
   "source": [
    "### Exercise 3: Data Visualization - Pairplot\n",
    "\n",
    "Create pairwise plots to visualize relationships between variables."
   ]
  },
  {
   "cell_type": "code",
   "execution_count": null,
   "id": "4711afd0-5824-4592-8dd6-5170ec5e16a4",
   "metadata": {},
   "outputs": [],
   "source": [
    "# Create pairplot showing TV, Radio, Newspaper vs Sales\n",
    "# TODO: Complete the pairplot function with appropriate parameters\n",
    "sns.pairplot(data=advert,\n",
    "             x_vars=[_____, _____, _____],  # Fill in the x variables\n",
    "             y_vars=_____,                   # Fill in the y variable\n",
    "             aspect=1.1, \n",
    "             height=4.5)\n",
    "plt.show()"
   ]
  },
  {
   "cell_type": "code",
   "execution_count": null,
   "id": "32c92ab3-bbf3-4231-a434-3f76161908cf",
   "metadata": {},
   "outputs": [],
   "source": [
    "# Create pairplot showing TV, Radio, Newspaper vs Sales\n",
    "sns.pairplot(data=advert,\n",
    "             x_vars=[_____, _____, _____],  # Fill in the x variables\n",
    "             y_vars=_____,                   # Fill in the y variable\n",
    "             aspect=1.1, \n",
    "             height=4.5)\n",
    "plt.show()"
   ]
  },
  {
   "cell_type": "markdown",
   "id": "7c510942-076b-4fc8-9581-2b490ee0c1e8",
   "metadata": {},
   "source": [
    "### Exercise 4: Correlation Analysis\n",
    "\n",
    "Examine correlations between variables."
   ]
  },
  {
   "cell_type": "code",
   "execution_count": null,
   "id": "28e6e76b-78cf-4d0c-83c4-4d2395f4787f",
   "metadata": {},
   "outputs": [],
   "source": [
    "# Calculate and display correlation matrix for the dataset\n",
    "correlation_matrix = advert._____()\n",
    "print(correlation_matrix)\n",
    "\n",
    "# Create correlation heatmap with annotations\n",
    "sns.heatmap(_____, annot=_____)\n",
    "plt.show()"
   ]
  },
  {
   "cell_type": "markdown",
   "id": "12f77bb7-b8bb-4e53-ac24-289e2a0d68ec",
   "metadata": {},
   "source": [
    "### Exercise 5: Variable Selection\n",
    "\n",
    "Select the independent and dependent variables for regression."
   ]
  },
  {
   "cell_type": "code",
   "execution_count": null,
   "id": "4589ab1a-14fc-44ec-915b-50658568fa88",
   "metadata": {},
   "outputs": [],
   "source": [
    "# Set X and Y variables for simple linear regression\n",
    "#     Select TV as independent variable (X) and Sales as dependent variable (Y)\n",
    "\n",
    "X = advert[_____]\n",
    "Y = advert[_____]\n",
    "\n",
    "# Check the shape of variables\n",
    "print(f\"The X shape: {X.shape}\")\n",
    "print(f\"The Y shape: {Y.shape}\")"
   ]
  },
  {
   "cell_type": "markdown",
   "id": "170595d0-7404-4d78-8913-98f8285d95cc",
   "metadata": {},
   "source": [
    "### Exercise 6: Model Preparation (Method 1)\n",
    "\n",
    "Prepare data for OLS regression using the matrix approach."
   ]
  },
  {
   "cell_type": "code",
   "execution_count": null,
   "id": "7aee85d1-9462-4ab6-b625-308787da31bf",
   "metadata": {},
   "outputs": [],
   "source": [
    "# Add constant term to X for intercept\n",
    "X_with_const = sm._____(X)\n",
    "\n",
    "# Check the new shape\n",
    "print(f\"X with constant shape: {X_with_const.shape}\")\n",
    "\n",
    "# Create OLS model with Y and X_with_const\n",
    "model = OLS(_____, _____)\n",
    "\n",
    "# Fit the model and store results\n",
    "result = model._____()\n",
    "\n",
    "# Display coefficient table only\n",
    "print(result.summary().tables[1])"
   ]
  },
  {
   "cell_type": "code",
   "execution_count": null,
   "id": "3ac1ceb9-2954-4b0a-941b-9cb2ad726fc2",
   "metadata": {},
   "outputs": [],
   "source": [
    "### Exercise 7: Model Fitting (Method 2 - Formula API)\n",
    "\n",
    "Use the formula interface for easier model specification."
   ]
  },
  {
   "cell_type": "code",
   "execution_count": null,
   "id": "76ccc346-54a8-4eea-8f32-4969cd14ad45",
   "metadata": {},
   "outputs": [],
   "source": [
    "# Create model using formula interface\n",
    "# Hint: Use OLS.from_formula with \"Sales ~ TV\" formula\n",
    "model_formula = OLS.from_formula(_____, _____)\n",
    "\n",
    "# Fit the model\n",
    "result_formula = model_formula._____()\n",
    "\n",
    "# Display complete summary\n",
    "print(result_formula.summary())"
   ]
  },
  {
   "cell_type": "markdown",
   "id": "808566f4-aada-4a9a-8eb3-61d9dbfa11ea",
   "metadata": {},
   "source": [
    "### Exercise 8: Exploring Results Structure\n",
    "\n",
    "Understand the structure of regression results."
   ]
  },
  {
   "cell_type": "code",
   "execution_count": null,
   "id": "e38ab021-3b0c-4ee8-92dd-e8de9d21404e",
   "metadata": {},
   "outputs": [],
   "source": [
    "# Explore summary components\n",
    "# Hint: Print all non-private attributes of result summary\n",
    "components = [comp for comp in dir(result_formula.summary()) if not comp.startswith('_')]\n",
    "print(\"Summary components:\", components)\n",
    "\n",
    "# Check number of tables in summary\n",
    "print(f\"Number of tables: {len(result_formula.summary().tables)}\")\n",
    "\n",
    "# Print each table separately\n",
    "for i in range(len(result_formula.summary().tables)):\n",
    "    print(f\"\\nTable {i+1}:\")\n",
    "    print(result_formula.summary().tables[i])\n",
    "\n",
    "# Print extra notes\n",
    "print(\"\\nExtra text:\")\n",
    "print(result_formula.summary().extra_txt)"
   ]
  },
  {
   "cell_type": "markdown",
   "id": "851c37dd-d823-4fc0-a892-0f834eed7512",
   "metadata": {},
   "source": [
    "### Exercise 9: Parameter Extraction\n",
    "\n",
    "Extract and work with model coefficients."
   ]
  },
  {
   "cell_type": "code",
   "execution_count": null,
   "id": "a933bd15-5516-4f2e-9075-bb0ab86c7aba",
   "metadata": {},
   "outputs": [],
   "source": [
    "# Extract model parameters from the fitted model\n",
    "params = result_formula._____\n",
    "print(\"Model parameters:\")\n",
    "print(params)\n",
    "print(f\"Parameter type: {type(params)}\")\n",
    "\n",
    "# Extract individual coefficients: The intercept and slope coefficients\n",
    "intercept = params.loc[_____]\n",
    "slope = params.loc[_____]\n",
    "\n",
    "print(f\"Intercept: {intercept}\")\n",
    "print(f\"Slope: {slope}\")"
   ]
  },
  {
   "cell_type": "markdown",
   "id": "4e29cba1-3a0b-4501-bf1d-268d2d80ead2",
   "metadata": {},
   "source": [
    "### Exercise 10: Model Visualization\n",
    "\n",
    "Create visualizations of the fitted model."
   ]
  },
  {
   "cell_type": "code",
   "execution_count": null,
   "id": "75645244-261e-4332-9cb3-3f6bc3f36ecf",
   "metadata": {},
   "outputs": [],
   "source": [
    "# Plot 1: Scatter plot with fitted line (manual)\n",
    "plt.figure(figsize=(10, 6))\n",
    "plt.scatter(advert[_____], advert[_____])\n",
    "plt.plot(advert[_____], _____ + _____ * advert[_____], 'g', linewidth=2)\n",
    "plt.xlabel('TV Advertising')\n",
    "plt.ylabel('Sales')\n",
    "plt.title('Sales vs TV Advertising with Fitted Line')\n",
    "plt.show()\n",
    "\n",
    "# Plot 2: Create regression plot using seaborn\n",
    "sns.regplot(data=advert,\n",
    "           x=_____,\n",
    "           y=_____,\n",
    "           ci=None)\n",
    "plt.title('Sales vs TV Advertising (Seaborn)')\n",
    "plt.show()"
   ]
  },
  {
   "cell_type": "markdown",
   "id": "85b6b499-6f4c-4c5d-bf12-bcbfc573f6dc",
   "metadata": {},
   "source": [
    "### Exercise 11: Predictions and Residuals\n",
    "\n",
    "Calculate predicted values and residuals."
   ]
  },
  {
   "cell_type": "code",
   "execution_count": null,
   "id": "37d84147-3613-43cb-94e6-c20487fbe316",
   "metadata": {},
   "outputs": [],
   "source": [
    "# Generate predictions using the fitted model\n",
    "y_hat = result_formula._____(X_with_const)\n",
    "print(\"First 10 predictions:\")\n",
    "print(y_hat.head(10))\n",
    "\n",
    "# Create dataframe with actual Y, predicted Y, and residuals \n",
    "comparison_data = pd.DataFrame({\n",
    "    \"Y_actual\": _____,\n",
    "    \"Y_predicted\": _____\n",
    "})\n",
    "\n",
    "# Calculate residuals (errors) as actual - predicted\n",
    "comparison_data['Residuals'] = comparison_data[_____] - comparison_data[_____]\n",
    "\n",
    "print(\"Comparison data:\")\n",
    "print(comparison_data.head(10))"
   ]
  },
  {
   "cell_type": "markdown",
   "id": "b1157408-1cad-413e-a9c7-05b0d62513b3",
   "metadata": {},
   "source": [
    "### Exercise 12: Residual Analysis\n",
    "\n",
    "Analyze residuals to check model assumptions."
   ]
  },
  {
   "cell_type": "code",
   "execution_count": null,
   "id": "a00fa3d3-e45d-4074-8bff-36df06ecdacc",
   "metadata": {},
   "outputs": [],
   "source": [
    "# Plot 1: Distribution of residuals\n",
    "#  Create histogram of residuals with KDE\n",
    "sns.displot(comparison_data[_____],\n",
    "           kde=True,\n",
    "           aspect=1.3)\n",
    "plt.title(\"Distribution of Residuals\")\n",
    "plt.show()\n",
    "\n",
    "# Plot 2: Residuals vs Fitted values\n",
    "#  Create scatter plot of TV vs residuals\n",
    "plt.figure(figsize=(10, 6))\n",
    "plt.scatter(advert[_____], comparison_data[_____])\n",
    "plt.axhline(y=0, color='red', linestyle='--')\n",
    "plt.xlabel('TV Advertising')\n",
    "plt.ylabel('Residuals')\n",
    "plt.title(\"Residuals vs TV Advertising\")\n",
    "plt.show()"
   ]
  },
  {
   "cell_type": "markdown",
   "id": "914197d3-2373-4a2c-9901-71c9478fe72f",
   "metadata": {},
   "source": [
    "### Exercise 13: Model Interpretation\n",
    "\n",
    "Answer the following questions based on your results:\n",
    "\n",
    "1. **What is the estimated relationship between TV advertising and sales?**\n",
    "   - Write your interpretation here: _____\n",
    "\n",
    "2. **What does the R-squared value tell us?**\n",
    "   - Write your interpretation here: _____\n",
    "\n",
    "3. **Are the coefficients statistically significant?**\n",
    "   - Write your analysis here: _____\n",
    "\n",
    "4. **What do the residual plots suggest about model assumptions?**\n",
    "   - Write your observations here: _____"
   ]
  },
  {
   "cell_type": "markdown",
   "id": "9e1c17b5-7f52-469d-97e4-b696def3eda3",
   "metadata": {},
   "source": [
    "### Exercise 14: Additional Calculations\n",
    "\n",
    "Perform additional model diagnostics."
   ]
  },
  {
   "cell_type": "code",
   "execution_count": null,
   "id": "bf313b25-1e73-466f-a3ab-db139d617620",
   "metadata": {},
   "outputs": [],
   "source": [
    "# Calculate key statistics manually\n",
    "# =================================\n",
    "# Calculate R-squared, RMSE, and other metrics\n",
    "actual = comparison_data['Y_actual']\n",
    "predicted = comparison_data['Y_predicted']\n",
    "residuals = comparison_data['Residuals']\n",
    "\n",
    "# R-squared calculation\n",
    "ss_res = np.sum(residuals ** 2)\n",
    "ss_tot = np.sum((actual - np.mean(actual)) ** 2)\n",
    "r_squared_manual = 1 - (ss_res / ss_tot)\n",
    "\n",
    "# RMSE calculation\n",
    "rmse = np.sqrt(np.mean(residuals ** 2))\n",
    "\n",
    "# Mean Absolute Error\n",
    "mae = np.mean(np.abs(residuals))\n",
    "\n",
    "print(f\"Manual R-squared: {r_squared_manual:.4f}\")\n",
    "print(f\"Model R-squared: {result_formula.rsquared:.4f}\")\n",
    "print(f\"RMSE: {rmse:.4f}\")\n",
    "print(f\"MAE: {mae:.4f}\")"
   ]
  },
  {
   "cell_type": "markdown",
   "id": "51bbfc69-45f8-4586-ba54-562c97163e3b",
   "metadata": {},
   "source": [
    "---\n",
    "\n",
    "## Reflection Questions\n",
    "\n",
    "After completing all exercises, reflect on the following:\n",
    "\n",
    "1. How strong is the relationship between TV advertising and sales?\n",
    "2. What assumptions of linear regression can you verify from your analysis?\n",
    "3. What would you recommend to improve this model?\n",
    "4. How would you explain the business implications of your findings?"
   ]
  },
  {
   "cell_type": "markdown",
   "id": "be9ec74d-952c-4d22-9c0a-6766be26895a",
   "metadata": {},
   "source": [
    "---\n",
    "\n",
    "## Submission Instructions\n",
    "\n",
    "1. Complete all TODO items in the code cells\n",
    "2. Fill in your interpretations for Exercise 13\n",
    "3. Answer the reflection questions\n",
    "4. Ensure all code runs without errors\n",
    "5. Save your notebook with your name in the filename\n",
    "\n",
    "**Good luck with your analysis!**"
   ]
  },
  {
   "cell_type": "code",
   "execution_count": null,
   "id": "55c62b43-2c26-40b1-9da9-13a8c68df451",
   "metadata": {},
   "outputs": [],
   "source": []
  }
 ],
 "metadata": {
  "kernelspec": {
   "display_name": "STATS-ENV:Py3.12",
   "language": "python",
   "name": "stats-env"
  },
  "language_info": {
   "codemirror_mode": {
    "name": "ipython",
    "version": 3
   },
   "file_extension": ".py",
   "mimetype": "text/x-python",
   "name": "python",
   "nbconvert_exporter": "python",
   "pygments_lexer": "ipython3",
   "version": "3.12.11"
  }
 },
 "nbformat": 4,
 "nbformat_minor": 5
}

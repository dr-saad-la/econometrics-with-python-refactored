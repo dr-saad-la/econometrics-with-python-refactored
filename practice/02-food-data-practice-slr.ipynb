{
 "cells": [
  {
   "cell_type": "markdown",
   "id": "756d837f-0574-49c5-9edf-6c346a0f736c",
   "metadata": {},
   "source": [
    "<div style=\"background-color:#f8f9fa;\n",
    "    padding:20px;\n",
    "    border:2px solid #360084;\n",
    "    border-radius:8px;\n",
    "    margin:10px 0;\">\n",
    "    <div style=\"background-color:#fafdf0;\n",
    "        line-height:2;\n",
    "        text-align:center;\n",
    "        border:2px solid #360084;\n",
    "        padding:15px;\n",
    "        border-radius:5px;\">\n",
    "        <div style=\"color:#008B8B;\n",
    "            font-size:24pt;\n",
    "            font-weight:700;\">\n",
    "            Food Data Regression Practice\n",
    "        </div>\n",
    "    </div> \n",
    "    <div style=\"margin-top:15px; padding:10px;\">\n",
    "        <strong>Course:</strong> Econometrics<br>\n",
    "        <strong>Topic:</strong> Simple Linear Regression Practice<br>\n",
    "        <strong>Author:</strong> Dr. Saad Laouadi<br>\n",
    "        <strong>Date:</strong> June 2025<br>\n",
    "        <strong>Difficulty:</strong> Beginner<br>\n",
    "        <strong>Dataset:</strong> Food.csv<br>\n",
    "        <strong>Learning Objectives:</strong>\n",
    "        <ul style=\"margin:5px 0; padding-left:20px;\">\n",
    "            <li>Practice basic regression workflow</li>\n",
    "            <li>Read and explore real data</li>\n",
    "            <li>Create scatter plots with regression lines</li>\n",
    "            <li>Interpret regression results</li>\n",
    "        </ul>\n",
    "    </div>\n",
    "</div>\n",
    "\n",
    "---"
   ]
  },
  {
   "cell_type": "markdown",
   "id": "50cb0545-dfe0-450a-9ffc-9449f1fc72f7",
   "metadata": {},
   "source": [
    "## Instructions\n",
    "\n",
    "Complete the following exercises by filling in the missing code. This is a quick practice session focusing on the essential steps of regression analysis.\n",
    "\n",
    "### Exercise 1: Environment Setup\n",
    "\n",
    "Set up the basic libraries needed for regression analysis."
   ]
  },
  {
   "cell_type": "code",
   "execution_count": null,
   "id": "9d1952d0-e99c-419c-a378-d6b929939549",
   "metadata": {},
   "outputs": [],
   "source": [
    "# Import required libraries\n",
    "import _____ as pd\n",
    "import _____ as np\n",
    "import _____.pyplot as plt\n",
    "import _____ as sns\n",
    "from statsmodels.formula.api import _____\n",
    "\n",
    "# Set plotting style\n",
    "plt.style.use('_____')\n",
    "\n",
    "print(\"Libraries imported successfully!\")"
   ]
  },
  {
   "cell_type": "markdown",
   "id": "5e8f6e7a-031e-4388-acf1-c840d62505aa",
   "metadata": {},
   "source": [
    "### Exercise 2: Load the Data\n",
    "\n",
    "Read the food.csv dataset and examine its structure."
   ]
  },
  {
   "cell_type": "code",
   "execution_count": null,
   "id": "608be597-e76d-42a3-a97a-b735d6a00912",
   "metadata": {},
   "outputs": [],
   "source": [
    "# Load the food dataset\n",
    "# Note: Update the path to your dataset location\n",
    "data_path = \"food.csv\"\n",
    "food_df = pd.read_csv(_____)\n",
    "\n",
    "# Display basic information\n",
    "print(\"Dataset shape:\", food_df._____)\n",
    "print(\"\\nFirst 5 rows:\")\n",
    "print(food_df._____(5))\n",
    "\n",
    "# Check column names\n",
    "print(\"\\nColumn names:\")\n",
    "print(food_df._____)"
   ]
  },
  {
   "cell_type": "markdown",
   "id": "6535ea2c-9b96-4310-be53-d5f141007052",
   "metadata": {},
   "source": [
    "### Exercise 3: Data Exploration\n",
    "\n",
    "Examine the data characteristics and check for missing values."
   ]
  },
  {
   "cell_type": "code",
   "execution_count": null,
   "id": "98a9dd13-9cc1-4105-9b85-82106d9f7bc5",
   "metadata": {},
   "outputs": [],
   "source": [
    "# Display basic statistics\n",
    "print(\"Basic statistics:\")\n",
    "print(food_df._____())\n",
    "\n",
    "# Check for missing values\n",
    "print(\"\\nMissing values:\")\n",
    "print(food_df._____.sum())\n",
    "\n",
    "# Display data types\n",
    "print(\"\\nData types:\")\n",
    "print(food_df._____)"
   ]
  },
  {
   "cell_type": "markdown",
   "id": "301224b7-a6e0-483e-9fcc-a3e51099f649",
   "metadata": {},
   "source": [
    "### Exercise 4: Create Scatter Plot with Regression Line\n",
    "\n",
    "Create a scatter plot showing the relationship between two variables and add a regression line."
   ]
  },
  {
   "cell_type": "code",
   "execution_count": null,
   "id": "c55df714-d6d9-45fc-9566-5bcdbc4d8920",
   "metadata": {},
   "outputs": [],
   "source": [
    "# Create scatter plot with regression line\n",
    "# Note: Replace 'x_variable' and 'y_variable' with actual column names from your data\n",
    "plt.figure(figsize=(10, 6))\n",
    "\n",
    "# Create the regression plot\n",
    "sns._____(data=food_df, \n",
    "         x='_____',          # Fill in the x variable\n",
    "         y='_____',          # Fill in the y variable\n",
    "         ci=None)\n",
    "\n",
    "plt.xlabel('_____')          # Add appropriate x-label\n",
    "plt.ylabel('_____')          # Add appropriate y-label\n",
    "plt.title('_____ vs _____')  # Add descriptive title\n",
    "\n",
    "plt.grid(True, alpha=0.3)\n",
    "plt.show()"
   ]
  },
  {
   "cell_type": "markdown",
   "id": "4affb11b-9272-4b14-b5e2-ba944388eb21",
   "metadata": {},
   "source": [
    "### Exercise 5: Fit Regression Model\n",
    "\n",
    "Fit a simple linear regression model and display the results."
   ]
  },
  {
   "cell_type": "code",
   "execution_count": null,
   "id": "d3ca17a4-6827-40f5-98a9-e3d36f39b749",
   "metadata": {},
   "outputs": [],
   "source": [
    "# Fit regression model using formula interface\n",
    "# Note: Replace 'y_variable' and 'x_variable' with actual column names\n",
    "model = ols('_____ ~ _____', data=food_df).fit()\n",
    "\n",
    "# Display regression results\n",
    "print(\"Regression Results:\")\n",
    "print(\"=\"*40)\n",
    "print(model._____())\n",
    "\n",
    "# Extract key information\n",
    "intercept = model.params[_____]\n",
    "slope = model.params[_____]\n",
    "r_squared = model._____\n",
    "\n",
    "print(f\"\\nKey Results:\")\n",
    "print(f\"Intercept: {intercept:.3f}\")\n",
    "print(f\"Slope:     {slope:.3f}    \")\n",
    "print(f\"R-squared: {r_squared:.3f}\")"
   ]
  },
  {
   "cell_type": "markdown",
   "id": "a2644c36-ff62-465b-af3f-4d2ef5ba7aca",
   "metadata": {},
   "source": [
    "## Code Instructions\n",
    "1. Solve the previous exercises\n",
    "2. Ensure all code runs without errors\n",
    "3. Rerun the entire notebook (On Jupyter lab: go to `Kernel` --> `Restart kernel and run all cell`)\n",
    "6. Save your completed notebook"
   ]
  },
  {
   "cell_type": "code",
   "execution_count": null,
   "id": "862ae564-c2fe-4635-adb9-7dd750f8ed90",
   "metadata": {},
   "outputs": [],
   "source": []
  }
 ],
 "metadata": {
  "kernelspec": {
   "display_name": "STATS-ENV:Py3.12",
   "language": "python",
   "name": "stats-env"
  },
  "language_info": {
   "codemirror_mode": {
    "name": "ipython",
    "version": 3
   },
   "file_extension": ".py",
   "mimetype": "text/x-python",
   "name": "python",
   "nbconvert_exporter": "python",
   "pygments_lexer": "ipython3",
   "version": "3.12.11"
  }
 },
 "nbformat": 4,
 "nbformat_minor": 5
}

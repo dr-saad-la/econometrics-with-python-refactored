{
 "cells": [
  {
   "cell_type": "markdown",
   "id": "664fcc4b-528b-42d3-8462-ad0645a97431",
   "metadata": {},
   "source": [
    "<div style=\"background-color:#f8f9fa;\n",
    "    padding:20px;\n",
    "    border:2px solid #360084;\n",
    "    border-radius:8px;\n",
    "    margin:10px 0;\">\n",
    "    <div style=\"background-color:#fafdf0;\n",
    "        line-height:2;\n",
    "        text-align:center;\n",
    "        border:2px solid #360084;\n",
    "        padding:15px;\n",
    "        border-radius:5px;\">\n",
    "        <div style=\"color:#008B8B;\n",
    "            font-size:24pt;\n",
    "            font-weight:700;\">\n",
    "            OLS Estimation Implementation Step by Step with Statsmodels\n",
    "        </div>\n",
    "    </div> \n",
    "    <div style=\"margin-top:15px; padding:10px;\">\n",
    "        <strong>Course:</strong> Econometrics<br>\n",
    "        <strong>Topic:</strong> OLS Estimation using Python Statsmodels<br>\n",
    "        <strong>Instructor:</strong> Dr. Saad Laouadi<br>\n",
    "        <strong>Date:</strong> June 2025<br>\n",
    "        <strong>Level:</strong> Undergraduate<br>\n",
    "        <strong>Model:</strong> $SALES = \\beta_0 + \\beta_1 TV + \\varepsilon$<br>\n",
    "        <strong>Learning Objectives:</strong>\n",
    "        <ul style=\"margin:5px 0; padding-left:20px;\">\n",
    "            <li>Use statsmodels for OLS estimation</li>\n",
    "            <li>Extract and interpret coefficient estimates</li>\n",
    "            <li>Calculate fitted values and residuals</li>\n",
    "            <li>Compute goodness-of-fit measures</li>\n",
    "            <li>Understand model output components</li>\n",
    "        </ul>\n",
    "    </div>\n",
    "</div>\n",
    "\n",
    "---"
   ]
  },
  {
   "cell_type": "markdown",
   "id": "dd9285ca-a5c0-42ce-b2ac-1e58ae8437b2",
   "metadata": {},
   "source": [
    "## 1. Introduction to Statsmodels\n",
    "\n",
    "**Statsmodels** is Python's premier statistical modeling package. It provides:\n",
    "- Professional econometric estimation methods\n",
    "- Comprehensive model diagnostics\n",
    "- Publication-ready output tables\n",
    "- Extensive post-estimation analysis tools\n",
    "\n",
    "**Why use statsmodels for OLS?**\n",
    "- Handles complex data structures automatically\n",
    "- Provides robust standard errors and diagnostics\n",
    "- Integrates with pandas DataFrames seamlessly\n",
    "- Offers multiple model specifications\n",
    "\n",
    "---"
   ]
  },
  {
   "cell_type": "markdown",
   "id": "9e9ce6b8-dfec-4d3e-956c-539176366f0f",
   "metadata": {},
   "source": [
    "## 2. Package Setup and Data Loading"
   ]
  },
  {
   "cell_type": "code",
   "execution_count": null,
   "id": "4acd316b-ea9f-4e15-bfa9-eb22aab4ccce",
   "metadata": {},
   "outputs": [],
   "source": [
    "# ============================================= #\n",
    "#      Environment Setup\n",
    "# ============================================= #\n",
    "\n",
    "# Import core libraries\n",
    "import os\n",
    "from pathlib import Path\n",
    "\n",
    "import numpy as np\n",
    "import pandas as pd\n",
    "\n",
    "import matplotlib.pyplot as plt\n",
    "import seaborn as sns\n",
    "\n",
    "# Statsmodels components\n",
    "import statsmodels.api as sm\n",
    "import statsmodels.formula.api as smf\n",
    "from statsmodels.stats import diagnostic\n",
    "\n",
    "# Suppress warnings for cleaner output\n",
    "import warnings\n",
    "warnings.filterwarnings('ignore')\n",
    "\n",
    "# Set display options\n",
    "pd.set_option('display.precision', 4)\n",
    "plt.rcParams['figure.figsize'] = (12, 8)\n",
    "sns.set_style(\"whitegrid\")\n",
    "\n",
    "print(\"Statsmodels version:\", sm.__version__)\n",
    "\n",
    "print(\"*\"*52)\n",
    "print(\"Environment Setup\".center(52))\n",
    "%reload_ext watermark\n",
    "%watermark -iv -v -ud -a \"Dr. Saad Laouadi\"\n",
    "print(\"*\"*52)"
   ]
  },
  {
   "cell_type": "code",
   "execution_count": null,
   "id": "cf461379-aa26-4a9e-b364-a0b2f01e7b1f",
   "metadata": {},
   "outputs": [],
   "source": [
    "# Load advertising dataset\n",
    "\n",
    "advert = pd.read_csv(\"../../datasets/misc/advertising.csv\")\n",
    "\n",
    "print(\"Dataset Information:\")\n",
    "print(\"=\" * 20)\n",
    "print(f\"Observations: {len(advert)}\")\n",
    "print(f\"Variables: {advert.shape[1]}\")\n",
    "print(\"\\nVariable names:\")\n",
    "print(advert.columns.tolist())"
   ]
  },
  {
   "cell_type": "markdown",
   "id": "df10c852-3ce2-44c9-b127-2c6ce51383c6",
   "metadata": {},
   "source": [
    "## 3. Explore the Data"
   ]
  },
  {
   "cell_type": "code",
   "execution_count": null,
   "id": "c4bbceee-3bec-48fa-988b-cb0ac6d50010",
   "metadata": {},
   "outputs": [],
   "source": [
    "# Check the relationship between the target and other variables\n",
    "sns.pairplot(data=advert, x_vars=['TV', 'Newspaper', 'Radio'], y_vars='Sales')\n",
    "plt.show()"
   ]
  },
  {
   "cell_type": "code",
   "execution_count": null,
   "id": "3abeda40-7b2c-4b99-b13e-fa62b5ee0604",
   "metadata": {},
   "outputs": [],
   "source": [
    "# ============================================= #\n",
    "#   Select the Working Variables\n",
    "# ============================================= #\n",
    "# Focus on our main variables\n",
    "print(\"\\nSales and TV Overview:\")\n",
    "print(advert[['Sales', 'TV']].describe())"
   ]
  },
  {
   "cell_type": "code",
   "execution_count": null,
   "id": "e4e9f906-cb4b-46dd-8147-c5ee82f479c2",
   "metadata": {},
   "outputs": [],
   "source": [
    "# Check for missing values (good practice to)\n",
    "print(f\"\\nMissing values:\")\n",
    "print(f\"Wage: {advert['Sales'].isnull().sum()}\")\n",
    "print(f\"Education: {advert['TV'].isnull().sum()}\")"
   ]
  },
  {
   "cell_type": "markdown",
   "id": "e068a633-72ad-461d-b887-736c2dc73cbd",
   "metadata": {},
   "source": [
    "## 4. Basic OLS Estimation with Statsmodels\n",
    "\n",
    "### 4.1 Method 1: Using Formula API (R-style)\n",
    "We will use the `ols` formula from `statsmodels` package to estimate the our model:\n",
    "\n",
    "$$Sales = \\beta_0 + \\beta_1 \\times TV + \\varepsilon$$"
   ]
  },
  {
   "cell_type": "code",
   "execution_count": null,
   "id": "dc584606-6b0f-44e9-978c-c764e215cfd9",
   "metadata": {},
   "outputs": [],
   "source": [
    "# Estimate model using formula interface\n",
    "model_formula = smf.ols('Sales ~ TV', data=advert)\n",
    "res = model_formula.fit()\n",
    "\n",
    "# print the estimation results\n",
    "print(res.summary())"
   ]
  },
  {
   "cell_type": "markdown",
   "id": "8b63f8da-fc99-496c-90b6-c074770398c0",
   "metadata": {},
   "source": [
    "---\n",
    "\n",
    "## 4. Extracting and Understanding Coefficient Estimates"
   ]
  },
  {
   "cell_type": "code",
   "execution_count": null,
   "id": "425ecc48-88de-4a87-8739-ee836f74e5d1",
   "metadata": {},
   "outputs": [],
   "source": [
    "print(\"Coefficient Estimates and Properties\")\n",
    "print(\"=\" * 40)\n",
    "\n",
    "# Extract coefficients (both methods give same results)\n",
    "coefficients = res.params\n",
    "intercept = coefficients['Intercept']\n",
    "slope = coefficients['TV']\n",
    "print(\"Coefficient Estimates:\")\n",
    "print(f\"β₀ (Intercept): {intercept:.4f}\")\n",
    "print(f\"β₁ (Education): {slope:.4f}\")\n"
   ]
  },
  {
   "cell_type": "code",
   "execution_count": null,
   "id": "2c2a293e-f444-445b-9551-806008887f95",
   "metadata": {},
   "outputs": [],
   "source": [
    "# Access coefficient vector\n",
    "print(f\"\\nCoefficient vector:\")\n",
    "print(res.params)\n",
    "print(f\"Coefficient names: {res.params.index.tolist()}\")"
   ]
  },
  {
   "cell_type": "markdown",
   "id": "00e1c7c5-7438-45ec-a88b-1701535f0af0",
   "metadata": {},
   "source": [
    "---\n",
    "\n",
    "## 6. Fitted Values and Predictions"
   ]
  },
  {
   "cell_type": "code",
   "execution_count": null,
   "id": "196f91fc-b35c-4099-a5b3-ac2e86a3b856",
   "metadata": {},
   "outputs": [],
   "source": [
    "print(\"Fitted Values and Predictions\")\n",
    "print(\"=\" * 30)\n",
    "\n",
    "# Extract fitted values\n",
    "fitted_values = res.fittedvalues\n",
    "print(f\"Fitted values shape: {fitted_values.shape}\")\n",
    "print(f\"First 10 fitted values:\")\n",
    "print(fitted_values.head(10))"
   ]
  },
  {
   "cell_type": "code",
   "execution_count": null,
   "id": "4d31ef70-0d5a-4b99-bad6-0ba760abaf5f",
   "metadata": {},
   "outputs": [],
   "source": [
    "# Add the fitted values to our dataset \n",
    "advert = advert[['Sales', 'TV']]\n",
    "\n",
    "advert['predicted_sales'] = res.fittedvalues\n",
    "\n",
    "# Check the data\n",
    "advert.head()"
   ]
  },
  {
   "cell_type": "code",
   "execution_count": null,
   "id": "c20ee3c1-fcb8-437d-880b-673aa667a632",
   "metadata": {},
   "outputs": [],
   "source": [
    "# Manual calculation verification\n",
    "manual_fitted = intercept + slope * advert['TV']\n",
    "print(f\"\\nVerification - manual vs statsmodels fitted values match:\")\n",
    "print(np.allclose(fitted_values, manual_fitted))"
   ]
  },
  {
   "cell_type": "markdown",
   "id": "def8f72d-d3b7-4293-b724-a69a34cb7396",
   "metadata": {},
   "source": [
    "---\n",
    "\n",
    "## 7. Residuals Analysis"
   ]
  },
  {
   "cell_type": "code",
   "execution_count": null,
   "id": "c3123cf6-10dd-4eb3-b114-00523cef4d88",
   "metadata": {},
   "outputs": [],
   "source": [
    "print(\"Residual Analysis\")\n",
    "print(\"=\" * 18)\n",
    "\n",
    "# Extract residuals\n",
    "residuals = res.resid\n",
    "print(f\"Residuals shape: {residuals.shape}\")\n",
    "print(f\"Residual statistics:\")\n",
    "print(f\"• Mean: {residuals.mean():.10f}\")           # Should be approximately 0\n",
    "print(f\"• Standard deviation: {residuals.std():.4f}\")\n",
    "print(f\"• Minimum: {residuals.min():.4f}\")\n",
    "print(f\"• Maximum: {residuals.max():.4f}\")"
   ]
  },
  {
   "cell_type": "code",
   "execution_count": null,
   "id": "765aa6b3-bfd4-43c2-828d-fb6219efd575",
   "metadata": {},
   "outputs": [],
   "source": [
    "# Verify residual properties\n",
    "actual_sales = advert['Sales']\n",
    "manual_residuals = actual_sales - fitted_values\n",
    "\n",
    "print(f\"\\nResidual properties verification:\")\n",
    "print(f\"• Sum of residuals: {residuals.sum():.10f}\")\n",
    "print(f\"• Correlation with X: {np.corrcoef(advert['TV'], residuals)[0,1]:.10f}\")\n",
    "print(f\"• Manual calculation matches: {np.allclose(residuals, manual_residuals)}\")"
   ]
  },
  {
   "cell_type": "code",
   "execution_count": null,
   "id": "26707e09-256f-4add-bdcf-037059e53c2d",
   "metadata": {},
   "outputs": [],
   "source": [
    "# Add the resids to the data\n",
    "advert['residuals'] = res.resid\n",
    "advert.head()"
   ]
  },
  {
   "cell_type": "markdown",
   "id": "5461a433-1a6b-4fc6-a2d6-c0b9f7e81fd9",
   "metadata": {},
   "source": [
    "---\n",
    "\n",
    "## 8. Sum of Squares Decomposition"
   ]
  },
  {
   "cell_type": "code",
   "execution_count": null,
   "id": "772b40ac-d388-449f-8468-fcd5fc4b4d71",
   "metadata": {},
   "outputs": [],
   "source": [
    "print(\"Sum of Squares Analysis\")\n",
    "print(\"=\" * 25)\n",
    "\n",
    "# Extract sum of squares from model\n",
    "y_mean = advert['Sales'].mean()\n",
    "\n",
    "# Calculate manually for understanding\n",
    "TSS = np.sum((actual_sales - y_mean)**2)     # Total Sum of Squares\n",
    "ESS = np.sum((fitted_values - y_mean)**2)    # Explained Sum of Squares\n",
    "RSS = np.sum(residuals**2)                   # Residual Sum of Squares\n",
    "\n",
    "print(f\"Sum of Squares Decomposition:\")\n",
    "print(f\"• TSS (Total): {TSS:.2f}\")\n",
    "print(f\"• ESS (Explained): {ESS:.2f}\")\n",
    "print(f\"• RSS (Residual): {RSS:.2f}\")\n",
    "print(f\"• Verification TSS = ESS + RSS: {np.isclose(TSS, ESS + RSS)}\")"
   ]
  },
  {
   "cell_type": "code",
   "execution_count": null,
   "id": "330b5cb7-7537-4d4e-81b5-d59769a02eed",
   "metadata": {},
   "outputs": [],
   "source": [
    "# Access from statsmodels results\n",
    "model_tss = res.centered_tss  # Total sum of squares\n",
    "model_ess = res.ess  # Error sum of squares (RSS in our notation)\n",
    "model_mse = res.mse_resid  # Mean squared error\n",
    "\n",
    "print(f\"\\nFrom statsmodels results object:\")\n",
    "print(f\"• Centered TSS: {model_tss:.2f}\")\n",
    "print(f\"• ESS (model's RSS): {model_ess:.2f}\")\n",
    "print(f\"• MSE: {model_mse:.4f}\")\n",
    "print(f\"• Root MSE: {np.sqrt(model_mse):.4f}\")"
   ]
  },
  {
   "cell_type": "code",
   "execution_count": null,
   "id": "9952f877-b44f-4539-af98-370bf3badb30",
   "metadata": {},
   "outputs": [],
   "source": [
    "# Degrees of freedom\n",
    "print(f\"\\nDegrees of freedom:\")\n",
    "print(f\"• Total (n-1): {res.df_model + res.df_resid}\")\n",
    "print(f\"• Model (k): {res.df_model}\")  \n",
    "print(f\"• Residual (n-k-1): {res.df_resid}\")"
   ]
  },
  {
   "cell_type": "markdown",
   "id": "6f755c9f-4dd1-4c8f-b8f5-d00cd1fef958",
   "metadata": {},
   "source": [
    "---\n",
    "\n",
    "## 9. Goodness of Fit Measures"
   ]
  },
  {
   "cell_type": "code",
   "execution_count": null,
   "id": "83d333ec-522d-4e25-b30b-81c9c867b576",
   "metadata": {},
   "outputs": [],
   "source": [
    "print(\"Goodness of Fit Measures\")\n",
    "print(\"=\" * 28)\n",
    "\n",
    "# R-squared measures\n",
    "r_squared = res.rsquared\n",
    "adj_r_squared = res.rsquared_adj\n",
    "\n",
    "print(f\"R-squared measures:\")\n",
    "print(f\"• R² = {r_squared:.4f}\")\n",
    "print(f\"• Adjusted R² = {adj_r_squared:.4f}\")\n",
    "print(f\"• R² difference = {r_squared - adj_r_squared:.6f}\")"
   ]
  },
  {
   "cell_type": "code",
   "execution_count": null,
   "id": "0b25dfcd-3205-4f9c-a300-7f71eca5a5d7",
   "metadata": {},
   "outputs": [],
   "source": [
    "# Manual calculation verification\n",
    "r_squared_manual = ESS / TSS\n",
    "adj_r_squared_manual = 1 - ((RSS / res.df_resid) / (TSS / (len(advert) - 1)))\n",
    "\n",
    "print(f\"\\nManual calculation verification:\")\n",
    "print(f\"• R² manual: {r_squared_manual:.4f}\")\n",
    "print(f\"• Adj R² manual: {adj_r_squared_manual:.4f}\")\n",
    "print(f\"• Match statsmodels: {np.allclose([r_squared, adj_r_squared], [r_squared_manual, adj_r_squared_manual])}\")"
   ]
  },
  {
   "cell_type": "code",
   "execution_count": null,
   "id": "5be00855-00bc-4132-a5ca-416064effd27",
   "metadata": {},
   "outputs": [],
   "source": [
    "# Interpretation\n",
    "print(f\"\\nInterpretation:\")\n",
    "print(f\"• {r_squared:.1%} of wage variation explained by education\")\n",
    "print(f\"• {(1-r_squared):.1%} of wage variation unexplained\")\n",
    "print(f\"• Correlation coefficient: {np.sqrt(r_squared):.4f}\")\n",
    "\n",
    "# Information criteria\n",
    "print(f\"\\nInformation Criteria:\")\n",
    "print(f\"• AIC: {res.aic:.2f}\")\n",
    "print(f\"• BIC: {res.bic:.2f}\")\n",
    "print(f\"• Log-likelihood: {res.llf:.2f}\")"
   ]
  },
  {
   "cell_type": "markdown",
   "id": "674b7257-c52f-4566-b4eb-379bc9f0d0ed",
   "metadata": {},
   "source": [
    "---\n",
    "\n",
    "## 11. Visualization of Results"
   ]
  },
  {
   "cell_type": "code",
   "execution_count": null,
   "id": "ca219637-6bf0-4caa-a232-7b90e6b8db29",
   "metadata": {},
   "outputs": [],
   "source": [
    "# ================================================ #\n",
    "#  Comprehensive visualization of OLS results\n",
    "# ================================================ #"
   ]
  },
  {
   "cell_type": "code",
   "execution_count": null,
   "id": "214e5fe2-a794-4efb-b35b-0326f679268c",
   "metadata": {},
   "outputs": [],
   "source": [
    "fig, ax = plt.subplots(figsize=(10, 8))\n",
    "\n",
    "# Plot 1: Scatter with regression line\n",
    "ax.plot(advert['TV'], fitted_values, color='red', linewidth=2, label='OLS fit')\n",
    "ax.scatter(advert['TV'], advert['Sales'], alpha=0.6, s=30, color='steelblue')\n",
    "ax.set_xlabel('TV Ads')\n",
    "ax.set_ylabel('Sales ($)')\n",
    "ax.set_title(f'Sales vs TV Ads\\n(R² = {r_squared:.3f})')\n",
    "ax.legend()\n",
    "ax.grid(True, alpha=0.3)\n",
    "\n",
    "plt.show()"
   ]
  },
  {
   "cell_type": "code",
   "execution_count": null,
   "id": "3003dd0e-1e21-4d66-9501-a779f1575daf",
   "metadata": {},
   "outputs": [],
   "source": [
    "# Plot 2: Fitted vs Actual values\n",
    "fig, ax = plt.subplots(figsize=(10, 8))\n",
    "ax.scatter(fitted_values, advert['Sales'], alpha=0.6, s=30, color='green')\n",
    "ax.plot([fitted_values.min(), fitted_values.max()], \n",
    "         [fitted_values.min(), fitted_values.max()], \n",
    "         'r--', linewidth=2, label='Perfect fit line')\n",
    "ax.set_xlabel('Fitted Values ($)')\n",
    "ax.set_ylabel('Actual Sales ($)')\n",
    "ax.set_title('Fitted vs Actual Values')\n",
    "ax.legend()\n",
    "ax.grid(True, alpha=0.3)\n",
    "\n",
    "plt.show()"
   ]
  },
  {
   "cell_type": "code",
   "execution_count": null,
   "id": "1f190aa8-23ef-472b-929c-10d3b34fbb52",
   "metadata": {},
   "outputs": [],
   "source": [
    "# Plot 3: Residuals vs Fitted\n",
    "fig, ax3 = plt.subplots(figsize=(10, 8))\n",
    "ax3.scatter(fitted_values, residuals, alpha=0.6, s=30, color='orange')\n",
    "ax3.axhline(y=0, color='red', linestyle='--', linewidth=2)\n",
    "ax3.set_xlabel('Fitted Values ($)')\n",
    "ax3.set_ylabel('Residuals ($)')\n",
    "ax3.set_title('Residuals vs Fitted Values')\n",
    "ax3.grid(True, alpha=0.3)\n",
    "\n",
    "plt.show()"
   ]
  },
  {
   "cell_type": "code",
   "execution_count": null,
   "id": "4104386e-ded5-43f2-83d5-00008d7e926d",
   "metadata": {},
   "outputs": [],
   "source": []
  }
 ],
 "metadata": {
  "kernelspec": {
   "display_name": "STATS-ENV:Py3.12",
   "language": "python",
   "name": "stats-env"
  },
  "language_info": {
   "codemirror_mode": {
    "name": "ipython",
    "version": 3
   },
   "file_extension": ".py",
   "mimetype": "text/x-python",
   "name": "python",
   "nbconvert_exporter": "python",
   "pygments_lexer": "ipython3",
   "version": "3.12.11"
  }
 },
 "nbformat": 4,
 "nbformat_minor": 5
}
